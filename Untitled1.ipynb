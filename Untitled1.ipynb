{
 "cells": [
  {
   "cell_type": "code",
   "execution_count": 3,
   "id": "6fa07a60",
   "metadata": {},
   "outputs": [],
   "source": [
    "import numpy as np\n",
    "import torch\n",
    "from torchvision.utils import make_grid\n",
    "\n",
    "from loader.MNIST_dataset import MNIST_dataset\n",
    "from models.ae import AE\n",
    "from models.modules import FC_image\n",
    "\n",
    "import matplotlib.pyplot as plt\n",
    "\n",
    "# if you don't have gpu, \n",
    "# you can set device='cpu'\n",
    "device = f'cuda:0'"
   ]
  },
  {
   "cell_type": "code",
   "execution_count": null,
   "id": "028419f6",
   "metadata": {},
   "outputs": [],
   "source": []
  }
 ],
 "metadata": {
  "kernelspec": {
   "display_name": "GM4",
   "language": "python",
   "name": "gm4"
  },
  "language_info": {
   "codemirror_mode": {
    "name": "ipython",
    "version": 3
   },
   "file_extension": ".py",
   "mimetype": "text/x-python",
   "name": "python",
   "nbconvert_exporter": "python",
   "pygments_lexer": "ipython3",
   "version": "3.9.13"
  }
 },
 "nbformat": 4,
 "nbformat_minor": 5
}
